{
 "cells": [
  {
   "cell_type": "code",
   "execution_count": 1,
   "metadata": {},
   "outputs": [
    {
     "data": {
      "text/plain": [
       "<Figure size 640x480 with 1 Axes>"
      ]
     },
     "metadata": {},
     "output_type": "display_data"
    },
    {
     "data": {
      "text/plain": [
       "array([[-0.10016012,  0.00867272],\n",
       "       [-0.00253494, -0.43267138]])"
      ]
     },
     "execution_count": 1,
     "metadata": {},
     "output_type": "execute_result"
    }
   ],
   "source": [
    "import numpy as np\n",
    "import matplotlib.pyplot as plt\n",
    "\n",
    "\n",
    "nlinear_x0 = np.empty((2000,2))\n",
    "nlinear_x1 = np.empty((2000,2))\n",
    "\n",
    "with open(\"nonlinear_vectorfield_data_x0.txt\") as f:\n",
    "    line = f.readline()\n",
    "    cnt = 0\n",
    "    while line:\n",
    "        x01, x02 = str(line).split(\" \")\n",
    "        nlinear_x0[cnt, 0] = float(x01)\n",
    "        nlinear_x0[cnt, 1] = float(x02)\n",
    "        cnt = cnt + 1\n",
    "        line = f.readline()\n",
    "        \n",
    "with open(\"nonlinear_vectorfield_data_x1.txt\") as f:\n",
    "    line = f.readline()\n",
    "    cnt = 0\n",
    "    while line:\n",
    "        x11, x12 = str(line).split(\" \")\n",
    "        nlinear_x1[cnt, 0] = float(x11)\n",
    "        nlinear_x1[cnt, 1] = float(x12)\n",
    "        cnt = cnt + 1\n",
    "        line = f.readline()\n",
    "        \n",
    "xdiff=nlinear_x1-nlinear_x0\n",
    "plt.plot(xdiff[:,0], xdiff[:,1], \"*r\")\n",
    "plt.show()\n",
    "\n",
    "#choose delta_t=0.1\n",
    "\n",
    "vhat=xdiff/0.1\n",
    "A = np.linalg.lstsq(nlinear_x0, vhat, rcond=None)[0]\n",
    "\n",
    "A"
   ]
  },
  {
   "cell_type": "code",
   "execution_count": 4,
   "metadata": {},
   "outputs": [
    {
     "data": {
      "text/plain": [
       "74.58375831864166"
      ]
     },
     "execution_count": 4,
     "metadata": {},
     "output_type": "execute_result"
    }
   ],
   "source": [
    "from scipy.integrate import solve_ivp\n",
    "\n",
    "def right_handside(t, y): return A@y\n",
    "\n",
    "\n",
    "\n",
    "'''\\Delta t to be 0.1'''\n",
    "\n",
    "results = np.empty((2000,2))\n",
    "for i in range(2000):\n",
    "    solution = solve_ivp(right_handside, [0, 0.1], nlinear_x0[i,:], t_eval = [0.1]).y\n",
    "    results[i, 0] = solution[0]\n",
    "    results[i, 1] = solution[1]\n",
    "\n",
    "mse=sum(sum((results - nlinear_x1)**2))\n",
    "mse"
   ]
  },
  {
   "cell_type": "code",
   "execution_count": 5,
   "metadata": {},
   "outputs": [
    {
     "data": {
      "text/plain": [
       "96.02858316227817"
      ]
     },
     "execution_count": 5,
     "metadata": {},
     "output_type": "execute_result"
    }
   ],
   "source": [
    "results = np.empty((2000,2))\n",
    "for i in range(2000):\n",
    "    solution = solve_ivp(right_handside, [0, 0.01], nlinear_x0[i,:], t_eval = [0.01]).y\n",
    "    results[i, 0] = solution[0]\n",
    "    results[i, 1] = solution[1]\n",
    "\n",
    "mse=sum(sum((results - nlinear_x1)**2))\n",
    "mse"
   ]
  },
  {
   "cell_type": "code",
   "execution_count": 6,
   "metadata": {},
   "outputs": [
    {
     "data": {
      "text/plain": [
       "403.0413643756296"
      ]
     },
     "execution_count": 6,
     "metadata": {},
     "output_type": "execute_result"
    }
   ],
   "source": [
    "results = np.empty((2000,2))\n",
    "for i in range(2000):\n",
    "    solution = solve_ivp(right_handside, [0, 0.5], nlinear_x0[i,:], t_eval = [0.5]).y\n",
    "    results[i, 0] = solution[0]\n",
    "    results[i, 1] = solution[1]\n",
    "\n",
    "mse=sum(sum((results - nlinear_x1)**2))\n",
    "mse"
   ]
  },
  {
   "cell_type": "code",
   "execution_count": 7,
   "metadata": {},
   "outputs": [
    {
     "data": {
      "text/plain": [
       "81.31577042903037"
      ]
     },
     "execution_count": 7,
     "metadata": {},
     "output_type": "execute_result"
    }
   ],
   "source": [
    "results = np.empty((2000,2))\n",
    "for i in range(2000):\n",
    "    solution = solve_ivp(right_handside, [0, 0.05], nlinear_x0[i,:], t_eval = [0.05]).y\n",
    "    results[i, 0] = solution[0]\n",
    "    results[i, 1] = solution[1]\n",
    "\n",
    "mse=sum(sum((results - nlinear_x1)**2))\n",
    "mse"
   ]
  },
  {
   "cell_type": "code",
   "execution_count": null,
   "metadata": {},
   "outputs": [],
   "source": []
  }
 ],
 "metadata": {
  "kernelspec": {
   "display_name": "Python 3",
   "language": "python",
   "name": "python3"
  },
  "language_info": {
   "codemirror_mode": {
    "name": "ipython",
    "version": 3
   },
   "file_extension": ".py",
   "mimetype": "text/x-python",
   "name": "python",
   "nbconvert_exporter": "python",
   "pygments_lexer": "ipython3",
   "version": "3.7.4"
  }
 },
 "nbformat": 4,
 "nbformat_minor": 2
}
