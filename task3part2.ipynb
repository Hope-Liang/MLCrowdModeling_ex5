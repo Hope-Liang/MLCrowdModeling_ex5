{
 "cells": [
  {
   "cell_type": "code",
   "execution_count": 7,
   "metadata": {},
   "outputs": [
    {
     "data": {
      "text/plain": [
       "array([[-0.7944744 ,  2.10080101],\n",
       "       [-4.17256668, -1.97929709],\n",
       "       [-3.24637322, -3.62137125],\n",
       "       ...,\n",
       "       [ 4.14915632,  1.86717647],\n",
       "       [-1.61959714, -3.78185524],\n",
       "       [ 0.76096541,  2.14619919]])"
      ]
     },
     "execution_count": 7,
     "metadata": {},
     "output_type": "execute_result"
    }
   ],
   "source": [
    "import numpy as np\n",
    "import matplotlib.pyplot as plt\n",
    "\n",
    "\n",
    "nlinear_x0 = np.empty((2000,2))\n",
    "nlinear_x1 = np.empty((2000,2))\n",
    "\n",
    "\n",
    "with open(\"nonlinear_vectorfield_data_x0.txt\") as f:\n",
    "    line = f.readline()\n",
    "    cnt = 0\n",
    "    while line:\n",
    "        x01, x02 = str(line).split(\" \")\n",
    "        nlinear_x0[cnt, 0] = float(x01)\n",
    "        nlinear_x0[cnt, 1] = float(x02)\n",
    "        cnt = cnt + 1\n",
    "        line = f.readline()\n",
    "        \n",
    "with open(\"nonlinear_vectorfield_data_x1.txt\") as f:\n",
    "    line = f.readline()\n",
    "    cnt = 0\n",
    "    while line:\n",
    "        x11, x12 = str(line).split(\" \")\n",
    "        nlinear_x1[cnt, 0] = float(x11)\n",
    "        nlinear_x1[cnt, 1] = float(x12)\n",
    "        cnt = cnt + 1\n",
    "        line = f.readline()\n",
    "\n",
    "'''set \\Delta t to be 0.1'''\n",
    "diff=nlinear_x1-nlinear_x0\n",
    "vhat=diff/0.1\n",
    "\n",
    "num=30\n",
    "xcenter=np.linspace(-4.5,4.5,num)\n",
    "ycenter=np.linspace(-4.5,4.5,num)\n",
    "\n",
    "def phi_l(x, xc, ep):\n",
    "    return np.exp(-((x[0]-xc[0])**2+(x[1]-xc[1])**2)/ep**2)\n",
    "\n",
    "def phi_mat(xs, xcenter, ycenter, ep, num):\n",
    "    result=np.empty((2000,num**2))\n",
    "    for i in range(num):\n",
    "        for j in range(num):\n",
    "            for k in range(2000):\n",
    "                result[k, num*i+j]=phi_l(xs[k], [xcenter[i],ycenter[j]], ep)\n",
    "    return result\n",
    "\n",
    "phis= phi_mat(nlinear_x0, xcenter, ycenter, 0.1, num)\n",
    "C=np.linalg.lstsq(phis, vhat, rcond=None)[0]\n",
    "\n",
    "fhat=np.dot(phis,C)\n",
    "esti=np.empty((2000,2))\n",
    "\n",
    "for i in range(2000):\n",
    "    for j in range(2):\n",
    "        esti[i][j]=nlinear_x0[i][j]+fhat[i][j]*0.1\n",
    "esti"
   ]
  },
  {
   "cell_type": "code",
   "execution_count": 8,
   "metadata": {},
   "outputs": [
    {
     "data": {
      "text/plain": [
       "array([[-0.79317039,  2.09824395],\n",
       "       [-4.20066645, -1.95521799],\n",
       "       [-3.32344627, -3.54971712],\n",
       "       ...,\n",
       "       [ 3.93738073,  1.83673157],\n",
       "       [-1.79153043, -3.59123607],\n",
       "       [ 0.78836138,  2.17869936]])"
      ]
     },
     "execution_count": 8,
     "metadata": {},
     "output_type": "execute_result"
    }
   ],
   "source": [
    "nlinear_x1"
   ]
  },
  {
   "cell_type": "code",
   "execution_count": 9,
   "metadata": {},
   "outputs": [
    {
     "data": {
      "text/plain": [
       "14.588122449816044"
      ]
     },
     "execution_count": 9,
     "metadata": {},
     "output_type": "execute_result"
    }
   ],
   "source": [
    "sum(sum((esti - nlinear_x1)**2))"
   ]
  },
  {
   "cell_type": "code",
   "execution_count": 10,
   "metadata": {},
   "outputs": [
    {
     "data": {
      "text/plain": [
       "array([[-0.74680196,  1.98292044],\n",
       "       [-4.49897063, -1.77900685],\n",
       "       [-3.17919698, -3.66895265],\n",
       "       ...,\n",
       "       [ 4.24798326,  1.88436412],\n",
       "       [-1.56682152, -3.8390385 ],\n",
       "       [ 0.71763342,  2.10165316]])"
      ]
     },
     "execution_count": 10,
     "metadata": {},
     "output_type": "execute_result"
    }
   ],
   "source": [
    "nlinear_x0"
   ]
  },
  {
   "cell_type": "code",
   "execution_count": 11,
   "metadata": {},
   "outputs": [
    {
     "data": {
      "text/plain": [
       "array([[-0.79317039,  2.09824395],\n",
       "       [-4.20066645, -1.95521799],\n",
       "       [-3.32344627, -3.54971712],\n",
       "       ...,\n",
       "       [ 3.93738073,  1.83673157],\n",
       "       [-1.79153043, -3.59123607],\n",
       "       [ 0.78836138,  2.17869936]])"
      ]
     },
     "execution_count": 11,
     "metadata": {},
     "output_type": "execute_result"
    }
   ],
   "source": [
    "num=50\n",
    "xcenter=np.linspace(-4.5,4.5,num)\n",
    "ycenter=np.linspace(-4.5,4.5,num)\n",
    "\n",
    "def phi_l(x, xc, ep):\n",
    "    return np.exp(-((x[0]-xc[0])**2+(x[1]-xc[1])**2)/ep**2)\n",
    "\n",
    "def phi_mat(xs, xcenter, ycenter, ep, num):\n",
    "    result=np.empty((2000,num**2))\n",
    "    for i in range(num):\n",
    "        for j in range(num):\n",
    "            for k in range(2000):\n",
    "                result[k, num*i+j]=phi_l(xs[k], [xcenter[i],ycenter[j]], ep)\n",
    "    return result\n",
    "\n",
    "phis= phi_mat(nlinear_x0, xcenter, ycenter, 0.1, num)\n",
    "C=np.linalg.lstsq(phis, vhat, rcond=None)[0]\n",
    "\n",
    "fhat=np.dot(phis,C)\n",
    "esti=np.empty((2000,2))\n",
    "\n",
    "for i in range(2000):\n",
    "    for j in range(2):\n",
    "        esti[i][j]=nlinear_x0[i][j]+fhat[i][j]*0.1\n",
    "esti"
   ]
  },
  {
   "cell_type": "code",
   "execution_count": 12,
   "metadata": {},
   "outputs": [
    {
     "data": {
      "text/plain": [
       "2.639018098148659e-17"
      ]
     },
     "execution_count": 12,
     "metadata": {},
     "output_type": "execute_result"
    }
   ],
   "source": [
    "sum(sum((esti - nlinear_x1)**2))"
   ]
  },
  {
   "cell_type": "code",
   "execution_count": 13,
   "metadata": {},
   "outputs": [
    {
     "data": {
      "text/plain": [
       "array([[-0.79317039,  2.09824395],\n",
       "       [-4.20066645, -1.95521799],\n",
       "       [-3.32344627, -3.54971712],\n",
       "       ...,\n",
       "       [ 3.93738073,  1.83673157],\n",
       "       [-1.79153043, -3.59123607],\n",
       "       [ 0.78836138,  2.17869936]])"
      ]
     },
     "execution_count": 13,
     "metadata": {},
     "output_type": "execute_result"
    }
   ],
   "source": [
    "num=100\n",
    "xcenter=np.linspace(-4.5,4.5,num)\n",
    "ycenter=np.linspace(-4.5,4.5,num)\n",
    "\n",
    "def phi_l(x, xc, ep):\n",
    "    return np.exp(-((x[0]-xc[0])**2+(x[1]-xc[1])**2)/ep**2)\n",
    "\n",
    "def phi_mat(xs, xcenter, ycenter, ep, num):\n",
    "    result=np.empty((2000,num**2))\n",
    "    for i in range(num):\n",
    "        for j in range(num):\n",
    "            for k in range(2000):\n",
    "                result[k, num*i+j]=phi_l(xs[k], [xcenter[i],ycenter[j]], ep)\n",
    "    return result\n",
    "\n",
    "phis= phi_mat(nlinear_x0, xcenter, ycenter, 0.1, num)\n",
    "C=np.linalg.lstsq(phis, vhat, rcond=None)[0]\n",
    "\n",
    "fhat=np.dot(phis,C)\n",
    "esti=np.empty((2000,2))\n",
    "\n",
    "for i in range(2000):\n",
    "    for j in range(2):\n",
    "        esti[i][j]=nlinear_x0[i][j]+fhat[i][j]*0.1\n",
    "esti"
   ]
  },
  {
   "cell_type": "code",
   "execution_count": 14,
   "metadata": {},
   "outputs": [
    {
     "data": {
      "text/plain": [
       "2.0528871725942368e-27"
      ]
     },
     "execution_count": 14,
     "metadata": {},
     "output_type": "execute_result"
    }
   ],
   "source": [
    "sum(sum((esti - nlinear_x1)**2))"
   ]
  },
  {
   "cell_type": "code",
   "execution_count": null,
   "metadata": {},
   "outputs": [],
   "source": []
  }
 ],
 "metadata": {
  "kernelspec": {
   "display_name": "Python 3",
   "language": "python",
   "name": "python3"
  },
  "language_info": {
   "codemirror_mode": {
    "name": "ipython",
    "version": 3
   },
   "file_extension": ".py",
   "mimetype": "text/x-python",
   "name": "python",
   "nbconvert_exporter": "python",
   "pygments_lexer": "ipython3",
   "version": "3.7.4"
  }
 },
 "nbformat": 4,
 "nbformat_minor": 2
}
